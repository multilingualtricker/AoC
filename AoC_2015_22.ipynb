{
 "cells": [
  {
   "cell_type": "code",
   "execution_count": null,
   "metadata": {
    "collapsed": true
   },
   "outputs": [],
   "source": [
    "#AoC_2015_22\n",
    "#https://adventofcode.com/2015/day/22\n",
    "#https://www.reddit.com/r/adventofcode/comments/3xspyl/day_22_solutions/"
   ]
  },
  {
   "cell_type": "code",
   "execution_count": 6,
   "metadata": {
    "collapsed": true
   },
   "outputs": [],
   "source": [
    "try:\n",
    "    from IPython import get_ipython\n",
    "    get_ipython().magic('reset -f')  \n",
    "except:\n",
    "    pass\n",
    "from IPython import get_ipython\n",
    "ipython = get_ipython().magic\n",
    "import os\n",
    "os.chdir('/Users/markprosser/Desktop/PythonScripts')\n",
    "import MCP_functions as MCP\n",
    "import numpy as np\n",
    "import matplotlib.pyplot as plt\n",
    "import sys\n",
    "import random\n",
    "plt.close(\"all\")\n",
    "import itertools\n",
    "import warnings\n",
    "warnings.simplefilter(action='ignore')\n",
    "\n",
    "from random import randint\n"
   ]
  },
  {
   "cell_type": "code",
   "execution_count": 7,
   "metadata": {
    "collapsed": true
   },
   "outputs": [],
   "source": [
    "startbosshp = 51\n",
    "bossdamage = 9\n",
    "\n",
    "startwizardhp = 50\n",
    "startwizardarmor = 0\n",
    "startwizardmana = 500"
   ]
  },
  {
   "cell_type": "code",
   "execution_count": 8,
   "metadata": {
    "collapsed": true
   },
   "outputs": [],
   "source": [
    "from collections import namedtuple\n",
    "class Spell(namedtuple('BaseSpell',\n",
    "                       'name cost effect turns damage heal armour mana')):\n",
    "    def __new__(cls, name, cost, effect=False, turns=None, damage=0, heal=0,\n",
    "                armour=0, mana=0):\n",
    "        return super().__new__(\n",
    "            cls, name, cost, effect, turns, damage, heal, armour, mana)\n",
    "\n",
    "spells = (\n",
    "    Spell('Magic Missile', 53,  damage=4),\n",
    "    Spell('Drain',         73,  damage=2, heal=2),\n",
    "    Spell('Shield',        113, effect=True, turns=6, armour=7),\n",
    "    Spell('Poison',        173, effect=True, turns=6, damage=3),\n",
    "    Spell('Recharge',      229, effect=True, turns=5, mana=101),\n",
    ")"
   ]
  },
  {
   "cell_type": "code",
   "execution_count": 9,
   "metadata": {},
   "outputs": [
    {
     "data": {
      "text/plain": [
       "(Spell(name='Magic Missile', cost=53, effect=False, turns=None, damage=4, heal=0, armour=0, mana=0),\n",
       " Spell(name='Drain', cost=73, effect=False, turns=None, damage=2, heal=2, armour=0, mana=0),\n",
       " Spell(name='Shield', cost=113, effect=True, turns=6, damage=0, heal=0, armour=7, mana=0),\n",
       " Spell(name='Poison', cost=173, effect=True, turns=6, damage=3, heal=0, armour=0, mana=0),\n",
       " Spell(name='Recharge', cost=229, effect=True, turns=5, damage=0, heal=0, armour=0, mana=101))"
      ]
     },
     "execution_count": 9,
     "metadata": {},
     "output_type": "execute_result"
    }
   ],
   "source": [
    "spells"
   ]
  },
  {
   "cell_type": "code",
   "execution_count": 10,
   "metadata": {
    "collapsed": true
   },
   "outputs": [],
   "source": [
    "def list_mana(wizardmana):\n",
    "    if (wizardmana < 73):\n",
    "        listmana = [0]\n",
    "    elif (wizardmana < 113):\n",
    "        listmana = [0,1]\n",
    "    elif (wizardmana < 173):\n",
    "        listmana = [0,1,2]\n",
    "    elif (wizardmana < 229):\n",
    "        listmana = [0,1,2,3]\n",
    "    elif (wizardmana >= 229):\n",
    "        listmana = [0,1,2,3,4]\n",
    "    return listmana\n",
    "\n",
    "\n",
    "\n",
    "def what_randi(st, pt, rt, wizardmana):        \n",
    "    list0 = [0,1,2,3,4]\n",
    "    list1s = [0,1,3,4]\n",
    "    list1p = [0,1,2,4]\n",
    "    list1r = [0,1,2,3]\n",
    "    list2sp = [0,1,4]\n",
    "    list2pr = [0,1,2]\n",
    "    list2sr = [0,1,3]\n",
    "    list3 = [0,1]\n",
    "\n",
    "    if (st==0) & (pt==0) & (rt==0):\n",
    "        listmana = list_mana(wizardmana)\n",
    "        randi = random.choice(list(set(list0).intersection(listmana)))           \n",
    "    elif (st!=0) & (pt==0) & (rt==0):\n",
    "        listmana = list_mana(wizardmana)\n",
    "        randi = random.choice(list(set(list1s).intersection(listmana))) \n",
    "    elif (st==0) & (pt!=0) & (rt==0):\n",
    "        listmana = list_mana(wizardmana)\n",
    "        randi = random.choice(list(set(list1p).intersection(listmana))) \n",
    "    elif (st==0) & (pt==0) & (rt!=0):\n",
    "        listmana = list_mana(wizardmana)\n",
    "        randi = random.choice(list(set(list1r).intersection(listmana))) \n",
    "    elif (st!=0) & (pt!=0) & (rt==0):\n",
    "        listmana = list_mana(wizardmana)\n",
    "        randi = random.choice(list(set(list2sp).intersection(listmana))) \n",
    "    elif (st==0) & (pt!=0) & (rt!=0):\n",
    "        listmana = list_mana(wizardmana)\n",
    "        randi = random.choice(list(set(list2pr).intersection(listmana))) \n",
    "    elif (st!=0) & (pt==0) & (rt!=0):\n",
    "        listmana = list_mana(wizardmana)\n",
    "        randi = random.choice(list(set(list2sr).intersection(listmana))) \n",
    "    elif (st!=0) & (pt!=0) & (rt!=0):\n",
    "        listmana = list_mana(wizardmana)\n",
    "        randi = random.choice(list(set(list3).intersection(listmana))) \n",
    "    return randi\n",
    "\n",
    "\n",
    "\n",
    "def update_turns(st, pt, rt, wizardarmor, bosshp, wizardmana):\n",
    "    if (st > 0):\n",
    "        wizardarmor = 7\n",
    "        st -= 1\n",
    "    elif (st == 0):\n",
    "        wizardarmor = 0     \n",
    "    if (pt > 0):\n",
    "        bosshp -= 3\n",
    "        pt -= 1\n",
    "    elif (pt == 0):\n",
    "        pass\n",
    "    if (rt > 0):\n",
    "        rt -= 1\n",
    "        wizardmana += 101\n",
    "    elif (rt == 0):\n",
    "        pass\n",
    "    return st, pt, rt, wizardarmor, bosshp, wizardmana\n",
    "\n",
    "def update_wiz_boss(randi, st, pt, rt, wizardarmor, bosshp, wizardmana, wizardhp, spentmana):\n",
    "    if randi == 0:\n",
    "        wizardmana -= 53\n",
    "        spentmana += 53\n",
    "        bosshp -= 4\n",
    "        st, pt, rt, wizardarmor, bosshp, wizardmana = update_turns(st, pt, rt, wizardarmor, bosshp, wizardmana)\n",
    "    elif randi == 1:\n",
    "        wizardmana -= 73\n",
    "        spentmana += 73\n",
    "        bosshp -= 2\n",
    "        wizardhp += 2\n",
    "        st, pt, rt, wizardarmor, bosshp, wizardmana = update_turns(st, pt, rt, wizardarmor, bosshp, wizardmana)\n",
    "    elif randi == 2:\n",
    "        st = 6\n",
    "        wizardmana -= 113\n",
    "        spentmana += 113\n",
    "        st, pt, rt, wizardarmor, bosshp, wizardmana = update_turns(st, pt, rt, wizardarmor, bosshp, wizardmana)\n",
    "    elif randi == 3:\n",
    "        pt = 6\n",
    "        wizardmana -= 173\n",
    "        spentmana += 173\n",
    "        st, pt, rt, wizardarmor, bosshp, wizardmana = update_turns(st, pt, rt, wizardarmor, bosshp, wizardmana)   \n",
    "    elif randi == 4:\n",
    "        rt = 5\n",
    "        wizardmana -= 229\n",
    "        spentmana += 229\n",
    "        st, pt, rt, wizardarmor, bosshp, wizardmana = update_turns(st, pt, rt, wizardarmor, bosshp, wizardmana)\n",
    "    return st, pt, rt, wizardarmor, bosshp, wizardmana, wizardhp, spentmana\n",
    "\n",
    "def boss_act_dam(bossdamage, wizardarmor):\n",
    "    bossactdam = bossdamage - wizardarmor\n",
    "    if (bossactdam < 1):\n",
    "        bossactdam = 1\n",
    "    return bossactdam"
   ]
  },
  {
   "cell_type": "code",
   "execution_count": 11,
   "metadata": {},
   "outputs": [
    {
     "name": "stdout",
     "output_type": "stream",
     "text": [
      "bestspentmana=  1334\n",
      "bestspentmanalist=  [1481, 1388, 1368, 1348, 1334]\n",
      "bestlist=  [[4, 3, 0, 1, 2, 4, 1, 1, 3, 0, 2, 0, 1], [4, 3, 1, 1, 2, 4, 0, 3, 0, 0, 2, 0], [2, 4, 3, 0, 0, 0, 4, 1, 3, 0, 2, 0], [4, 2, 3, 0, 0, 4, 0, 2, 3, 0, 0, 0], [2, 4, 0, 0, 0, 0, 3, 4, 2, 0, 0, 0, 0, 0]]\n",
      "lose_no=  97227\n",
      "win_no=  2752\n"
     ]
    }
   ],
   "source": [
    "bestspentmanalist = []\n",
    "bestlist = []\n",
    "lose_no = 0\n",
    "win_no = 0\n",
    "bestspentmana = 99999\n",
    "\n",
    "\n",
    "\n",
    "\n",
    "for i in range(0,100000):\n",
    "    \n",
    "    spentmana = 0\n",
    "    templist = []\n",
    "    t=1\n",
    "    wizardhp = startwizardhp\n",
    "    wizardarmor = startwizardarmor\n",
    "    wizardmana = startwizardmana\n",
    "    bosshp = startbosshp\n",
    "    st = 0\n",
    "    pt = 0\n",
    "    rt = 0\n",
    "    randi = random.choice([0,1,2,3,4]) \n",
    "    templist.append(randi)\n",
    "    st, pt, rt, wizardarmor, bosshp, wizardmana, wizardhp, spentmana = update_wiz_boss(randi, st, pt, rt, wizardarmor, bosshp, wizardmana, wizardhp, spentmana)\n",
    "    bossactdam = boss_act_dam(bossdamage, wizardarmor) #wizard 1st spell\n",
    "    wizardhp -= bossactdam #boss' 1st attack\n",
    "    \n",
    "    while (bosshp > 0) & (wizardhp > 0) & (wizardmana > 52): \n",
    "        t += 1\n",
    "        randi = what_randi(st, pt, rt, wizardmana)\n",
    "        templist.append(randi)\n",
    "        st, pt, rt, wizardarmor, bosshp, wizardmana, wizardhp, spentmana = update_wiz_boss(randi, st, pt, rt, wizardarmor, bosshp, wizardmana, wizardhp, spentmana)\n",
    "        bossactdam = boss_act_dam(bossdamage, wizardarmor)\n",
    "        wizardhp -= bossactdam #boss's attack \n",
    "        if (wizardmana < 53) & (bosshp > 0): #if wizard becomes sitting duck\n",
    "            wizardhp = -999\n",
    "\n",
    "    if (wizardhp > bosshp): #if you win\n",
    "        win_no += 1\n",
    "        if (spentmana < bestspentmana): #if you win AND cheap spend\n",
    "            bestspentmana = spentmana\n",
    "            bestspentmanalist.append(spentmana)\n",
    "            bestlist.append(templist)\n",
    "        else:\n",
    "            templist = []\n",
    "    elif (bosshp > wizardhp):\n",
    "        lose_no += 1\n",
    "        templist = []\n",
    "\n",
    "            \n",
    "print('bestspentmana= ',bestspentmana) \n",
    "print('bestspentmanalist= ',bestspentmanalist) \n",
    "print('bestlist= ',bestlist) \n",
    "print('lose_no= ',lose_no) \n",
    "print('win_no= ',win_no) "
   ]
  },
  {
   "cell_type": "code",
   "execution_count": null,
   "metadata": {
    "collapsed": true
   },
   "outputs": [],
   "source": [
    "len(bestlist)\n",
    "# print(st)\n",
    "# print(pt)\n",
    "# print(rt)\n",
    "# print(randi)\n",
    "# print('-')\n",
    "# print(wizardmana)\n",
    "# print(templist)\n",
    "\n"
   ]
  },
  {
   "cell_type": "code",
   "execution_count": null,
   "metadata": {
    "collapsed": true
   },
   "outputs": [],
   "source": [
    "bosshp"
   ]
  },
  {
   "cell_type": "code",
   "execution_count": null,
   "metadata": {
    "collapsed": true
   },
   "outputs": [],
   "source": [
    "wizardhp"
   ]
  },
  {
   "cell_type": "code",
   "execution_count": null,
   "metadata": {
    "collapsed": true
   },
   "outputs": [],
   "source": []
  },
  {
   "cell_type": "code",
   "execution_count": null,
   "metadata": {
    "collapsed": true
   },
   "outputs": [],
   "source": [
    "randint(0, 5)\n",
    "list0 = [0,1,2,3,4]\n",
    "list1s = [0,1,3,4]\n",
    "list1p = [0,1,2,4]\n",
    "list1r = [0,1,2,3]\n",
    "list2sp = [0,1,4]\n",
    "list2pr = [0,1,2]\n",
    "list2sr = [0,1,3]\n",
    "list3 = [0,1]\n",
    "print(random.choice(foo))\n",
    "\n"
   ]
  },
  {
   "cell_type": "code",
   "execution_count": null,
   "metadata": {
    "collapsed": true
   },
   "outputs": [],
   "source": []
  }
 ],
 "metadata": {
  "kernelspec": {
   "display_name": "Python [default]",
   "language": "python",
   "name": "python3"
  },
  "language_info": {
   "codemirror_mode": {
    "name": "ipython",
    "version": 3
   },
   "file_extension": ".py",
   "mimetype": "text/x-python",
   "name": "python",
   "nbconvert_exporter": "python",
   "pygments_lexer": "ipython3",
   "version": "3.5.3"
  }
 },
 "nbformat": 4,
 "nbformat_minor": 2
}
