{
 "cells": [
  {
   "cell_type": "code",
   "execution_count": null,
   "metadata": {
    "collapsed": true
   },
   "outputs": [],
   "source": [
    "#like AoC_2015\n",
    "#but uses OOP"
   ]
  },
  {
   "cell_type": "code",
   "execution_count": 1,
   "metadata": {
    "collapsed": true
   },
   "outputs": [],
   "source": [
    "import numpy as np\n",
    "import itertools\n",
    "import warnings\n",
    "warnings.simplefilter(action='ignore')"
   ]
  },
  {
   "cell_type": "code",
   "execution_count": 2,
   "metadata": {
    "collapsed": true
   },
   "outputs": [],
   "source": [
    "bosshp = 104\n",
    "bossdamage = 8\n",
    "bossarmor = 1\n",
    "\n",
    "playerhp = 100\n",
    "playerdamage = 0\n",
    "playerarmor = 0\n"
   ]
  },
  {
   "cell_type": "code",
   "execution_count": 3,
   "metadata": {
    "collapsed": true
   },
   "outputs": [],
   "source": [
    "from collections import namedtuple\n",
    "Item = namedtuple('item', ['name', 'cost', 'damage', 'armor'])\n",
    "\n",
    "weaponsnt = [\n",
    "    Item('Dagger', 8, 4, 0),\n",
    "    Item('Shortsword', 10, 5, 0),\n",
    "    Item('Warhammer', 25, 6, 0),\n",
    "    Item('Longsword', 40, 7, 0),\n",
    "    Item('Greataxe', 74, 8, 0),\n",
    "]\n",
    "\n",
    "armornt = [\n",
    "    Item('Leather', 13, 0, 1),\n",
    "    Item('Chainmail', 31, 0, 2),\n",
    "    Item('Splintmail', 53, 0, 3),\n",
    "    Item('Bandedmail', 75, 0, 4),\n",
    "    Item('Platemail', 102, 0, 5),\n",
    "    Item('Naked', 0, 0, 0),\n",
    "]\n",
    "\n",
    "ringsnt = [\n",
    "    Item('Damage +1', 25, 1, 0),\n",
    "    Item('Damage +2', 50, 2, 0),\n",
    "    Item('Damage +3', 100, 3, 0),\n",
    "    Item('Defense +1', 20, 0, 1),\n",
    "    Item('Defense +2', 40, 0, 2),\n",
    "    Item('Defense +3', 80, 0, 3),\n",
    "]"
   ]
  },
  {
   "cell_type": "code",
   "execution_count": 4,
   "metadata": {
    "collapsed": true
   },
   "outputs": [],
   "source": [
    "# class Boss:\n",
    "#     def __init__(self, hp, damage, armor):\n",
    "#         self.hp = hp\n",
    "#         self.damage = damage\n",
    "#         self.armor = armor\n",
    "        \n",
    "#     def calc_actdamage(self, playerarmor):\n",
    "#         self.actdamage = self.damage - playerarmor\n",
    "#         if (self.actdamage < 1):\n",
    "#             self.actdamage = 1\n",
    "        \n",
    "# class Player:\n",
    "#     def __init__(self, spent, hp, damage, armor):\n",
    "#         self.spent = spent\n",
    "#         self.hp = hp\n",
    "#         self.damage = damage\n",
    "#         self.armor = armor\n",
    "    \n",
    "#     def calc_actdamage(self, bossarmor):\n",
    "#         self.actdamage = self.damage - bossarmor\n",
    "#         if (self.actdamage < 1):\n",
    "#             self.actdamage = 1"
   ]
  },
  {
   "cell_type": "code",
   "execution_count": 5,
   "metadata": {
    "collapsed": true
   },
   "outputs": [],
   "source": [
    "class RpgChara:\n",
    "    def __init__(self, hp, damage, armor):\n",
    "        self.hp = hp\n",
    "        self.damage = damage\n",
    "        self.armor = armor\n",
    "        \n",
    "    def calc_actdamage(self, enemyarmor):\n",
    "        self.actdamage = self.damage - enemyarmor\n",
    "        if (self.actdamage < 1):\n",
    "            self.actdamage = 1\n",
    "            \n",
    "class Boss(RpgChara):\n",
    "    pass\n",
    "    \n",
    "class Player(RpgChara):\n",
    "    def __init__(self, spent, hp, damage, armor):\n",
    "        super().__init__(hp, damage, armor)\n",
    "        self.spent = spent\n"
   ]
  },
  {
   "cell_type": "code",
   "execution_count": 10,
   "metadata": {},
   "outputs": [
    {
     "name": "stdout",
     "output_type": "stream",
     "text": [
      "1\n",
      "99999\n",
      "99999\n",
      "99999\n",
      "asdf\n"
     ]
    }
   ],
   "source": [
    "class Foo:\n",
    "    bar = 1\n",
    "    def __init__(self, baz):\n",
    "        self.baz = baz\n",
    "\n",
    "a = Foo(9)\n",
    "b = Foo(6)\n",
    "\n",
    "print(a.bar)\n",
    "Foo.bar = 99999\n",
    "print(Foo.bar)\n",
    "print(a.bar)\n",
    "print(b.bar)\n",
    "b.bar = 'asdf'\n",
    "print(b.bar)"
   ]
  },
  {
   "cell_type": "code",
   "execution_count": 6,
   "metadata": {},
   "outputs": [
    {
     "name": "stdout",
     "output_type": "stream",
     "text": [
      "[('0', '1'), ('0', '2'), ('0', '3'), ('0', '4'), ('0', '5'), ('1', '2'), ('1', '3'), ('1', '4'), ('1', '5'), ('2', '3'), ('2', '4'), ('2', '5'), ('3', '4'), ('3', '5'), ('4', '5')]\n"
     ]
    }
   ],
   "source": [
    "wn = 5 #weapons\n",
    "an = 6 #armor\n",
    "rn = 22 #rings\n",
    "\n",
    "comb = wn * an * rn #total number of possibilities\n",
    "\n",
    "#setup arrays\n",
    "player_spent = np.full((wn, an, rn), np.nan)\n",
    "player_damage = np.full((wn, an, rn), np.nan) #damage\n",
    "player_armor = np.full((wn, an, rn), np.nan) #cost\n",
    "\n",
    "#setup arrays\n",
    "weapons = np.full((wn, 3), 0)\n",
    "armor = np.full((an, 3), 0)\n",
    "rings0 = np.full((6, 3), 0)\n",
    "rings = np.full((rn, 3), 0)\n",
    "\n",
    "weapons[:,:] = [[8, 4, 0], [10, 5, 0], [25, 6, 0], [40, 7, 0], [74, 8, 0]]\n",
    "armor[:,:] = [[13, 0, 1], [31, 0, 2], [53, 0, 3], [75, 0, 4], [102, 0, 5], [0, 0, 0]]\n",
    "rings0[:,:] = [[25, 1, 0], [50, 2, 0], [100, 3, 0], [20, 0, 1], [40, 0, 2], [80, 0, 3]]\n",
    "\n",
    "ring_combs = (list(itertools.combinations('012345', 2)))\n",
    "print(ring_combs)"
   ]
  },
  {
   "cell_type": "markdown",
   "metadata": {},
   "source": [
    "# The 22 ring combinations"
   ]
  },
  {
   "cell_type": "code",
   "execution_count": 7,
   "metadata": {},
   "outputs": [
    {
     "name": "stdout",
     "output_type": "stream",
     "text": [
      "[[  75.    3.    0.]\n",
      " [ 125.    4.    0.]\n",
      " [  45.    1.    1.]\n",
      " [  65.    1.    2.]\n",
      " [ 105.    1.    3.]\n",
      " [ 150.    5.    0.]\n",
      " [  70.    2.    1.]\n",
      " [  90.    2.    2.]\n",
      " [ 130.    2.    3.]\n",
      " [ 120.    3.    1.]\n",
      " [ 140.    3.    2.]\n",
      " [ 180.    3.    3.]\n",
      " [  60.    0.    3.]\n",
      " [ 100.    0.    4.]\n",
      " [ 120.    0.    5.]\n",
      " [  25.    1.    0.]\n",
      " [  50.    2.    0.]\n",
      " [ 100.    3.    0.]\n",
      " [  20.    0.    1.]\n",
      " [  40.    0.    2.]\n",
      " [  80.    0.    3.]\n",
      " [   0.    0.    0.]]\n"
     ]
    }
   ],
   "source": [
    "for i in range(0, len(ring_combs)):\n",
    "    rings[i, 0] = int(rings0[ring_combs[i][0]][0] + rings0[ring_combs[i][1]][0]) #cost\n",
    "    rings[i, 1] = int(rings0[ring_combs[i][0]][1] + rings0[ring_combs[i][1]][1]) #damage\n",
    "    rings[i, 2] = int(rings0[ring_combs[i][0]][2] + rings0[ring_combs[i][1]][2]) #armor\n",
    "rings[15:-1, :] = rings0[:,:]\n",
    "\n",
    "print(rings)"
   ]
  },
  {
   "cell_type": "code",
   "execution_count": 8,
   "metadata": {
    "collapsed": true
   },
   "outputs": [],
   "source": [
    "for w in range(0, wn):\n",
    "    for a in range(0, an):\n",
    "        for r in range(0, rn):\n",
    "            player_spent[w, a, r] = weapons[w, 0] + armor[a, 0] + rings[r, 0]\n",
    "            player_damage[w, a, r] = weapons[w, 1] + armor[a, 1] + rings[r, 1]\n",
    "            player_armor[w, a, r] = weapons[w, 2] + armor[a, 2] + rings[r, 2]"
   ]
  },
  {
   "cell_type": "code",
   "execution_count": 9,
   "metadata": {},
   "outputs": [
    {
     "name": "stdout",
     "output_type": "stream",
     "text": [
      "[[  8.   4.   0.]\n",
      " [ 10.   5.   0.]\n",
      " [ 25.   6.   0.]\n",
      " [ 40.   7.   0.]\n",
      " [ 74.   8.   0.]]\n",
      "-\n",
      "[[  13.    0.    1.]\n",
      " [  31.    0.    2.]\n",
      " [  53.    0.    3.]\n",
      " [  75.    0.    4.]\n",
      " [ 102.    0.    5.]\n",
      " [   0.    0.    0.]]\n"
     ]
    }
   ],
   "source": [
    "print(weapons)\n",
    "print('-')\n",
    "print(armor)"
   ]
  },
  {
   "cell_type": "code",
   "execution_count": 10,
   "metadata": {},
   "outputs": [
    {
     "name": "stdout",
     "output_type": "stream",
     "text": [
      "lowest spend while still winning = 91.0\n",
      "item(name='Longsword', cost=40, damage=7, armor=0)\n",
      "item(name='Chainmail', cost=31, damage=0, armor=2)\n",
      "ringscombi [ 20.   0.   1.]\n",
      "18\n",
      "-\n",
      "highest spend while still losing = 158.0\n",
      "item(name='Dagger', cost=8, damage=4, armor=0)\n",
      "item(name='Naked', cost=0, damage=0, armor=0)\n",
      "ringscombi [ 150.    5.    0.]\n",
      "5\n",
      "-\n",
      "win_no= 525\n",
      "lose_no= 135\n"
     ]
    }
   ],
   "source": [
    "-"
   ]
  },
  {
   "cell_type": "code",
   "execution_count": null,
   "metadata": {
    "collapsed": true
   },
   "outputs": [],
   "source": [
    "\n",
    "\n"
   ]
  },
  {
   "cell_type": "code",
   "execution_count": null,
   "metadata": {
    "collapsed": true
   },
   "outputs": [],
   "source": []
  },
  {
   "cell_type": "code",
   "execution_count": null,
   "metadata": {
    "collapsed": true
   },
   "outputs": [],
   "source": []
  }
 ],
 "metadata": {
  "kernelspec": {
   "display_name": "Python [default]",
   "language": "python",
   "name": "python3"
  },
  "language_info": {
   "codemirror_mode": {
    "name": "ipython",
    "version": 3
   },
   "file_extension": ".py",
   "mimetype": "text/x-python",
   "name": "python",
   "nbconvert_exporter": "python",
   "pygments_lexer": "ipython3",
   "version": "3.5.3"
  }
 },
 "nbformat": 4,
 "nbformat_minor": 2
}
