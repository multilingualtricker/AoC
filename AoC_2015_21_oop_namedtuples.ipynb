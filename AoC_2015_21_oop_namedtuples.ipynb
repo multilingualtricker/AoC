{
 "cells": [
  {
   "cell_type": "code",
   "execution_count": null,
   "metadata": {
    "collapsed": true
   },
   "outputs": [],
   "source": [
    "#like AoC_2015\n",
    "#but tries to use namedtuple (but fails as it gets too complicated)\n",
    "#but uses OOP"
   ]
  },
  {
   "cell_type": "code",
   "execution_count": 1,
   "metadata": {
    "collapsed": true
   },
   "outputs": [],
   "source": [
    "try:\n",
    "    from IPython import get_ipython\n",
    "    get_ipython().magic('reset -f')  \n",
    "except:\n",
    "    pass\n",
    "from IPython import get_ipython\n",
    "ipython = get_ipython().magic\n",
    "import os\n",
    "os.chdir('/Users/markprosser/Desktop/PythonScripts')\n",
    "import MCP_functions as MCP\n",
    "import numpy as np\n",
    "import matplotlib.pyplot as plt\n",
    "import sys\n",
    "import random\n",
    "plt.close(\"all\")\n",
    "import itertools\n",
    "import warnings\n",
    "warnings.simplefilter(action='ignore')\n",
    "\n",
    "from collections import namedtuple\n",
    "Item = namedtuple('item', ['name', 'cost', 'damage', 'armor'])"
   ]
  },
  {
   "cell_type": "code",
   "execution_count": 2,
   "metadata": {
    "collapsed": true
   },
   "outputs": [],
   "source": [
    "class Boss:\n",
    "    def __init__(self, hp, damage, armor):\n",
    "        self.hp = hp\n",
    "        self.damage = damage\n",
    "        self.armor = armor\n",
    "        \n",
    "class Player:\n",
    "    def __init__(self, spent, hp, damage, armor):\n",
    "        self.spent = spent\n",
    "        self.hp = hp\n",
    "        self.damage = damage\n",
    "        self.armor = armor"
   ]
  },
  {
   "cell_type": "code",
   "execution_count": 65,
   "metadata": {},
   "outputs": [
    {
     "data": {
      "text/plain": [
       "list"
      ]
     },
     "execution_count": 65,
     "metadata": {},
     "output_type": "execute_result"
    }
   ],
   "source": [
    "type(rings0)"
   ]
  },
  {
   "cell_type": "code",
   "execution_count": 70,
   "metadata": {},
   "outputs": [
    {
     "name": "stdout",
     "output_type": "stream",
     "text": [
      "[('0', '1'), ('0', '2'), ('0', '3'), ('0', '4'), ('0', '5'), ('1', '2'), ('1', '3'), ('1', '4'), ('1', '5'), ('2', '3'), ('2', '4'), ('2', '5'), ('3', '4'), ('3', '5'), ('4', '5')]\n"
     ]
    }
   ],
   "source": [
    "wn = 5 #weapons\n",
    "an = 6 #armor\n",
    "rn = 22 #rings\n",
    "\n",
    "comb = wn * an * rn #total number of possibilities\n",
    "\n",
    "my_cost = np.full((wn, an, rn), np.nan)\n",
    "my_damage = np.full((wn, an, rn), np.nan) #damage\n",
    "my_armor = np.full((wn, an, rn), np.nan) #cost\n",
    "\n",
    "weapons = np.full((wn, 3), 0)\n",
    "armor = np.full((an, 3), 0)\n",
    "rings0 = np.full((6, 3), 0)\n",
    "rings = np.full((rn, 3), 0)\n",
    "\n",
    "weaponsnt = [\n",
    "    Item('Dagger', 8, 4, 0),\n",
    "    Item('Shortsword', 10, 5, 0),\n",
    "    Item('Warhammer', 25, 6, 0),\n",
    "    Item('Longsword', 40, 7, 0),\n",
    "    Item('Greataxe', 74, 8, 0),\n",
    "]\n",
    "\n",
    "armornt = [\n",
    "    Item('Leather', 13, 0, 1),\n",
    "    Item('Chainmail', 31, 0, 2),\n",
    "    Item('Splintmail', 53, 0, 3),\n",
    "    Item('Bandedmail', 75, 0, 4),\n",
    "    Item('Platemail', 102, 0, 5),\n",
    "    Item('Naked', 0, 0, 0),\n",
    "]\n",
    "\n",
    "ringsnt = [\n",
    "    Item('Damage +1', 25, 1, 0),\n",
    "    Item('Damage +2', 50, 2, 0),\n",
    "    Item('Damage +3', 100, 3, 0),\n",
    "    Item('Defense +1', 20, 0, 1),\n",
    "    Item('Defense +2', 40, 0, 2),\n",
    "    Item('Defense +3', 80, 0, 3),\n",
    "]\n",
    "\n",
    "\n",
    "# weapons[:,:] = [[8, 4, 0], [10, 5, 0], [25, 6, 0], [40, 7, 0], [74, 8, 0]]\n",
    "# armor[:,:] = [[13, 0, 1], [31, 0, 2], [53, 0, 3], [75, 0, 4], [102, 0, 5], [0, 0, 0]]\n",
    "# rings0[:,:] = [[25, 1, 0], [50, 2, 0], [100, 3, 0], [20, 0, 1], [40, 0, 2], [80, 0, 3]]\n",
    "\n",
    "ring_combs = (list(itertools.combinations('012345', 2)))\n",
    "print(ring_combs)\n",
    "\n",
    "\n",
    "rings = np.full((rn, 3), 0)"
   ]
  },
  {
   "cell_type": "markdown",
   "metadata": {},
   "source": [
    "# The 22 ring combinations"
   ]
  },
  {
   "cell_type": "code",
   "execution_count": 73,
   "metadata": {},
   "outputs": [
    {
     "name": "stdout",
     "output_type": "stream",
     "text": [
      "[[  75.    3.    0.]\n",
      " [ 125.    4.    0.]\n",
      " [  45.    1.    1.]\n",
      " [  65.    1.    2.]\n",
      " [ 105.    1.    3.]\n",
      " [ 150.    5.    0.]\n",
      " [  70.    2.    1.]\n",
      " [  90.    2.    2.]\n",
      " [ 130.    2.    3.]\n",
      " [ 120.    3.    1.]\n",
      " [ 140.    3.    2.]\n",
      " [ 180.    3.    3.]\n",
      " [  60.    0.    3.]\n",
      " [ 100.    0.    4.]\n",
      " [ 120.    0.    5.]\n",
      " [  25.    1.    0.]\n",
      " [  50.    2.    0.]\n",
      " [ 100.    3.    0.]\n",
      " [  20.    0.    1.]\n",
      " [  40.    0.    2.]\n",
      " [  80.    0.    3.]\n",
      " [   0.    0.    0.]]\n"
     ]
    }
   ],
   "source": [
    "for i in range(0, len(ring_combs)):\n",
    "    rings[i, 0] = int(rings0[int(ring_combs[i][0])][1] + rings0[int(ring_combs[i][1])][1]) #cost\n",
    "    rings[i, 1] = int(rings0[int(ring_combs[i][0])][2] + rings0[int(ring_combs[i][1])][2]) #damage\n",
    "    rings[i, 2] = int(rings0[int(ring_combs[i][0])][3] + rings0[int(ring_combs[i][1])][3]) #armor\n",
    "for i in range(0, len(rings0)):\n",
    "    rings[15+i] = list(rings0[i][1:])\n",
    "\n",
    "print(rings)"
   ]
  },
  {
   "cell_type": "code",
   "execution_count": 74,
   "metadata": {},
   "outputs": [],
   "source": [
    "for w in range(0, wn):\n",
    "    for a in range(0, an):\n",
    "        for r in range(0, rn):\n",
    "            my_cost[w, a, r] = weapons[w][1] + armor[a][1] + rings[r][0]\n",
    "            my_damage[w, a, r] = weapons[w][2] + armor[a][2] + rings[r][1]\n",
    "            my_armor[w, a, r] = weapons[w][3] + armor[a][3] + rings[r][2]"
   ]
  },
  {
   "cell_type": "code",
   "execution_count": 64,
   "metadata": {},
   "outputs": [
    {
     "name": "stdout",
     "output_type": "stream",
     "text": [
      "[item(name='Dagger', cost=8, damage=4, armor=0), item(name='Shortsword', cost=10, damage=5, armor=0), item(name='Warhammer', cost=25, damage=6, armor=0), item(name='Longsword', cost=40, damage=7, armor=0), item(name='Greataxe', cost=74, damage=8, armor=0)]\n",
      "-\n",
      "[item(name='Leather', cost=13, damage=0, armor=1), item(name='Chainmail', cost=31, damage=0, armor=2), item(name='Splintmail', cost=53, damage=0, armor=3), item(name='Bandedmail', cost=75, damage=0, armor=4), item(name='Platemail', cost=102, damage=0, armor=5), item(name='Naked', cost=0, damage=0, armor=0)]\n"
     ]
    }
   ],
   "source": [
    "print(weapons)\n",
    "print('-')\n",
    "print(armor)"
   ]
  },
  {
   "cell_type": "code",
   "execution_count": null,
   "metadata": {
    "collapsed": true
   },
   "outputs": [],
   "source": []
  },
  {
   "cell_type": "code",
   "execution_count": null,
   "metadata": {
    "collapsed": true
   },
   "outputs": [],
   "source": []
  },
  {
   "cell_type": "code",
   "execution_count": null,
   "metadata": {
    "collapsed": true
   },
   "outputs": [],
   "source": []
  }
 ],
 "metadata": {
  "kernelspec": {
   "display_name": "Python [default]",
   "language": "python",
   "name": "python3"
  },
  "language_info": {
   "codemirror_mode": {
    "name": "ipython",
    "version": 3
   },
   "file_extension": ".py",
   "mimetype": "text/x-python",
   "name": "python",
   "nbconvert_exporter": "python",
   "pygments_lexer": "ipython3",
   "version": "3.5.3"
  }
 },
 "nbformat": 4,
 "nbformat_minor": 2
}
