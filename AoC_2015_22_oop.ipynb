{
 "cells": [
  {
   "cell_type": "code",
   "execution_count": 20,
   "metadata": {
    "collapsed": true
   },
   "outputs": [],
   "source": [
    "#same as AoC_2015_22 just done in OOP\n",
    "#https://adventofcode.com/2015/day/22\n",
    "#https://www.reddit.com/r/adventofcode/comments/3xspyl/day_22_solutions/"
   ]
  },
  {
   "cell_type": "code",
   "execution_count": 25,
   "metadata": {},
   "outputs": [],
   "source": [
    "try:\n",
    "    from IPython import get_ipython\n",
    "    get_ipython().magic('reset -f')  \n",
    "except:\n",
    "    pass\n",
    "from IPython import get_ipython\n",
    "ipython = get_ipython().magic\n",
    "import os\n",
    "os.chdir('/Users/markprosser/Desktop/PythonScripts')\n",
    "import MCP_functions as MCP\n",
    "import numpy as np\n",
    "import matplotlib.pyplot as plt\n",
    "import sys\n",
    "import random\n",
    "plt.close(\"all\")\n",
    "import itertools\n",
    "import warnings\n",
    "warnings.simplefilter(action='ignore')\n",
    "\n",
    "from random import randint"
   ]
  },
  {
   "cell_type": "code",
   "execution_count": 68,
   "metadata": {},
   "outputs": [],
   "source": [
    "startbosshp = 51\n",
    "startbossdamage = 9\n",
    "startbossarmor = 0\n",
    "\n",
    "startwizardhp = 50\n",
    "startwizardarmor = 0\n",
    "startwizarddamage = 0\n",
    "startwizardmana = 500\n",
    "startwizardst = 0 #shield turns\n",
    "startwizardpt = 0 #poison\n",
    "startwizardrt = 0 #recharge\n",
    "startspentmana = 0"
   ]
  },
  {
   "cell_type": "code",
   "execution_count": 100,
   "metadata": {
    "collapsed": true
   },
   "outputs": [],
   "source": [
    "class Boss:\n",
    "    def __init__(self, hp, damage, armor):\n",
    "        self.hp = hp\n",
    "        self.damage = damage\n",
    "        self.armor = armor\n",
    "        \n",
    "    def calc_actdamage(self, wizardarmor):\n",
    "        self.actdamage = self.damage - wizardarmor\n",
    "        if (self.actdamage < 1):\n",
    "            self.actdamage = 1\n",
    "            \n",
    "class Wizard:\n",
    "    def __init__(self, hp, damage, armor, mana, st, pt, rt, spentmana):\n",
    "        self.hp = hp\n",
    "        self.damage = damage\n",
    "        self.armor = armor\n",
    "        self.mana = mana\n",
    "        self.st = st\n",
    "        self.pt = pt\n",
    "        self.rt = rt\n",
    "        self.spentmana = spentmana\n",
    "            \n",
    " \n"
   ]
  },
  {
   "cell_type": "code",
   "execution_count": 72,
   "metadata": {
    "collapsed": true
   },
   "outputs": [],
   "source": [
    "def list_mana(wizardmana):\n",
    "    if (wizardmana < 73):\n",
    "        listmana = [0]\n",
    "    elif (wizardmana < 113):\n",
    "        listmana = [0,1]\n",
    "    elif (wizardmana < 173):\n",
    "        listmana = [0,1,2]\n",
    "    elif (wizardmana < 229):\n",
    "        listmana = [0,1,2,3]\n",
    "    elif (wizardmana >= 229):\n",
    "        listmana = [0,1,2,3,4]\n",
    "    return listmana\n",
    "\n",
    "def what_randi(st, pt, rt, wizardmana):        \n",
    "    list0 = [0,1,2,3,4]\n",
    "    list1s = [0,1,3,4]\n",
    "    list1p = [0,1,2,4]\n",
    "    list1r = [0,1,2,3]\n",
    "    list2sp = [0,1,4]\n",
    "    list2pr = [0,1,2]\n",
    "    list2sr = [0,1,3]\n",
    "    list3 = [0,1]\n",
    "\n",
    "    if (st==0) & (pt==0) & (rt==0):\n",
    "        listmana = list_mana(wizardmana)\n",
    "        randi = random.choice(list(set(list0).intersection(listmana)))           \n",
    "    elif (st!=0) & (pt==0) & (rt==0):\n",
    "        listmana = list_mana(wizardmana)\n",
    "        randi = random.choice(list(set(list1s).intersection(listmana))) \n",
    "    elif (st==0) & (pt!=0) & (rt==0):\n",
    "        listmana = list_mana(wizardmana)\n",
    "        randi = random.choice(list(set(list1p).intersection(listmana))) \n",
    "    elif (st==0) & (pt==0) & (rt!=0):\n",
    "        listmana = list_mana(wizardmana)\n",
    "        randi = random.choice(list(set(list1r).intersection(listmana))) \n",
    "    elif (st!=0) & (pt!=0) & (rt==0):\n",
    "        listmana = list_mana(wizardmana)\n",
    "        randi = random.choice(list(set(list2sp).intersection(listmana))) \n",
    "    elif (st==0) & (pt!=0) & (rt!=0):\n",
    "        listmana = list_mana(wizardmana)\n",
    "        randi = random.choice(list(set(list2pr).intersection(listmana))) \n",
    "    elif (st!=0) & (pt==0) & (rt!=0):\n",
    "        listmana = list_mana(wizardmana)\n",
    "        randi = random.choice(list(set(list2sr).intersection(listmana))) \n",
    "    elif (st!=0) & (pt!=0) & (rt!=0):\n",
    "        listmana = list_mana(wizardmana)\n",
    "        randi = random.choice(list(set(list3).intersection(listmana))) \n",
    "    return randi\n",
    "\n",
    "def update_turns(st, pt, rt, wizardarmor, bosshp, wizardmana):\n",
    "    if (st > 0):\n",
    "        wizardarmor = 7\n",
    "        st -= 1\n",
    "    elif (st == 0):\n",
    "        wizardarmor = 0     \n",
    "    if (pt > 0):\n",
    "        bosshp -= 3\n",
    "        pt -= 1\n",
    "    elif (pt == 0):\n",
    "        pass\n",
    "    if (rt > 0):\n",
    "        rt -= 1\n",
    "        wizardmana += 101\n",
    "    elif (rt == 0):\n",
    "        pass\n",
    "    return st, pt, rt, wizardarmor, bosshp, wizardmana\n",
    "\n",
    "def update_wiz_boss(randi, st, pt, rt, wizardarmor, bosshp, wizardmana, wizardhp, spentmana):\n",
    "    if randi == 0:\n",
    "        wizardmana -= 53\n",
    "        spentmana += 53\n",
    "        bosshp -= 4\n",
    "        st, pt, rt, wizardarmor, bosshp, wizardmana = update_turns(st, pt, rt, wizardarmor, bosshp, wizardmana)\n",
    "    elif randi == 1:\n",
    "        wizardmana -= 73\n",
    "        spentmana += 73\n",
    "        bosshp -= 2\n",
    "        wizardhp += 2\n",
    "        st, pt, rt, wizardarmor, bosshp, wizardmana = update_turns(st, pt, rt, wizardarmor, bosshp, wizardmana)\n",
    "    elif randi == 2:\n",
    "        st = 6\n",
    "        wizardmana -= 113\n",
    "        spentmana += 113\n",
    "        st, pt, rt, wizardarmor, bosshp, wizardmana = update_turns(st, pt, rt, wizardarmor, bosshp, wizardmana)\n",
    "    elif randi == 3:\n",
    "        pt = 6\n",
    "        wizardmana -= 173\n",
    "        spentmana += 173\n",
    "        st, pt, rt, wizardarmor, bosshp, wizardmana = update_turns(st, pt, rt, wizardarmor, bosshp, wizardmana)   \n",
    "    elif randi == 4:\n",
    "        rt = 5\n",
    "        wizardmana -= 229\n",
    "        spentmana += 229\n",
    "        st, pt, rt, wizardarmor, bosshp, wizardmana = update_turns(st, pt, rt, wizardarmor, bosshp, wizardmana)\n",
    "    return st, pt, rt, wizardarmor, bosshp, wizardmana, wizardhp, spentmana"
   ]
  },
  {
   "cell_type": "code",
   "execution_count": 94,
   "metadata": {},
   "outputs": [
    {
     "name": "stdout",
     "output_type": "stream",
     "text": [
      "bestspentmana=  1334\n",
      "bestspentmanalist=  [1494, 1388, 1348, 1334]\n",
      "bestlist=  [[4, 2, 0, 0, 0, 4, 3, 0, 2, 1, 0, 1, 3, 0], [4, 3, 2, 1, 0, 0, 4, 3, 1, 0, 2, 0], [3, 4, 2, 0, 0, 0, 4, 3, 0, 2, 0, 0], [2, 4, 0, 3, 0, 0, 4, 0, 2, 0, 0, 0, 0, 0]]\n",
      "lose_no=  972136\n",
      "win_no=  27722\n"
     ]
    }
   ],
   "source": [
    "bestspentmanalist = []\n",
    "bestlist = []\n",
    "lose_no = 0\n",
    "win_no = 0\n",
    "bestspentmana = 99999\n",
    "\n",
    "\n",
    "for i in range(0, 100000):\n",
    "    t=1\n",
    "    templist = [] #saving the move order in case it is good\n",
    "    #create instances\n",
    "    boss_i = Boss(startbosshp, startbossdamage, startbossarmor)\n",
    "    wiz_i = Wizard(startwizardhp, startwizarddamage, startwizardarmor, startwizardmana, \\\n",
    "                       startwizardst, startwizardpt, startwizardrt, startspentmana)\n",
    "    randi = what_randi(wiz_i.st, wiz_i.pt, wiz_i.rt, wiz_i.mana) #wizard 1st attack\n",
    "    templist.append(randi)\n",
    "    wiz_i.st, wiz_i.pt, wiz_i.rt, wiz_i.armor, boss_i.hp, wiz_i.mana, wiz_i.hp, \\\n",
    "                        wiz_i.spentmana = update_wiz_boss(randi, wiz_i.st, wiz_i.pt, \\\n",
    "                        wiz_i.rt, wiz_i.armor, boss_i.hp, wiz_i.mana, wiz_i.hp, \\\n",
    "                        wiz_i.spentmana)\n",
    "    boss_i.calc_actdamage(wiz_i.armor)\n",
    "    wiz_i.hp -= boss_i.actdamage #boss' 1st attack\n",
    "    while (boss_i.hp > 0) & (wiz_i.hp > 0) & (wiz_i.mana > 52): \n",
    "        t += 1\n",
    "        randi = what_randi(wiz_i.st, wiz_i.pt, wiz_i.rt, wiz_i.mana)\n",
    "        templist.append(randi)\n",
    "        wiz_i.st, wiz_i.pt, wiz_i.rt, wiz_i.armor, boss_i.hp, wiz_i.mana, wiz_i.hp, \\\n",
    "                        wiz_i.spentmana = update_wiz_boss(randi, wiz_i.st, wiz_i.pt, \\\n",
    "                        wiz_i.rt, wiz_i.armor, boss_i.hp, wiz_i.mana, wiz_i.hp, \\\n",
    "                        wiz_i.spentmana)\n",
    "        boss_i.calc_actdamage(wiz_i.armor) \n",
    "        wiz_i.hp -= boss_i.actdamage #boss's attack \n",
    "        if (wiz_i.mana < 53) & (boss_i.hp > 0): #if wizard becomes sitting duck\n",
    "            wiz_i.hp = -999\n",
    "    \n",
    "    if (wiz_i.hp > boss_i.hp): #if you win\n",
    "        win_no += 1\n",
    "        if (wiz_i.spentmana < bestspentmana): #if you win AND cheap spend\n",
    "            bestspentmana = wiz_i.spentmana\n",
    "            bestspentmanalist.append(wiz_i.spentmana)\n",
    "            bestlist.append(templist)\n",
    "        else:\n",
    "            templist = []\n",
    "    elif (boss_i.hp > wiz_i.hp):\n",
    "        lose_no += 1\n",
    "        templist = []\n",
    "        \n",
    "print('bestspentmana= ',bestspentmana) \n",
    "print('bestspentmanalist= ',bestspentmanalist) \n",
    "print('bestlist= ',bestlist) \n",
    "print('lose_no= ',lose_no) \n",
    "print('win_no= ',win_no) "
   ]
  },
  {
   "cell_type": "code",
   "execution_count": 99,
   "metadata": {},
   "outputs": [
    {
     "name": "stdout",
     "output_type": "stream",
     "text": [
      "{'armor': 0,\n",
      " 'damage': 0,\n",
      " 'hp': -7,\n",
      " 'mana': 158,\n",
      " 'pt': 5,\n",
      " 'rt': 0,\n",
      " 'spentmana': 847,\n",
      " 'st': 0}\n"
     ]
    }
   ],
   "source": [
    "from pprint import pprint\n",
    "pprint(vars(wiz_i))"
   ]
  },
  {
   "cell_type": "code",
   "execution_count": 91,
   "metadata": {},
   "outputs": [
    {
     "data": {
      "text/plain": [
       "-999"
      ]
     },
     "execution_count": 91,
     "metadata": {},
     "output_type": "execute_result"
    }
   ],
   "source": []
  },
  {
   "cell_type": "code",
   "execution_count": null,
   "metadata": {
    "collapsed": true
   },
   "outputs": [],
   "source": []
  }
 ],
 "metadata": {
  "kernelspec": {
   "display_name": "Python [default]",
   "language": "python",
   "name": "python3"
  },
  "language_info": {
   "codemirror_mode": {
    "name": "ipython",
    "version": 3
   },
   "file_extension": ".py",
   "mimetype": "text/x-python",
   "name": "python",
   "nbconvert_exporter": "python",
   "pygments_lexer": "ipython3",
   "version": "3.5.3"
  }
 },
 "nbformat": 4,
 "nbformat_minor": 2
}
